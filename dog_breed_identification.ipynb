{
  "nbformat": 4,
  "nbformat_minor": 0,
  "metadata": {
    "colab": {
      "provenance": [],
      "mount_file_id": "1qYGwejdJiJdTWjpeIsuekGWCx77BTeqP",
      "authorship_tag": "ABX9TyM8Fp5iblkb3ReKuToqV8d1",
      "include_colab_link": true
    },
    "kernelspec": {
      "name": "python3",
      "display_name": "Python 3"
    },
    "language_info": {
      "name": "python"
    }
  },
  "cells": [
    {
      "cell_type": "markdown",
      "metadata": {
        "id": "view-in-github",
        "colab_type": "text"
      },
      "source": [
        "<a href=\"https://colab.research.google.com/github/j-hermansen/dog-breed-identification/blob/main/dog_breed_identification.ipynb\" target=\"_parent\"><img src=\"https://colab.research.google.com/assets/colab-badge.svg\" alt=\"Open In Colab\"/></a>"
      ]
    },
    {
      "cell_type": "code",
      "source": [
        "!unzip \"drive/MyDrive/data/dog-breed-identification.zip\" -d \"drive/MyDrive/data/\"  # use '!' to run command line keywords"
      ],
      "metadata": {
        "id": "zEx3ZzM_kQsG"
      },
      "execution_count": null,
      "outputs": []
    },
    {
      "cell_type": "code",
      "source": [],
      "metadata": {
        "id": "uzLKkyvlno9W"
      },
      "execution_count": null,
      "outputs": []
    }
  ]
}