{
  "nbformat": 4,
  "nbformat_minor": 0,
  "metadata": {
    "colab": {
      "provenance": [],
      "mount_file_id": "1qYGwejdJiJdTWjpeIsuekGWCx77BTeqP",
      "authorship_tag": "ABX9TyOmHL8iE5aZtNcNl9jPYUxh",
      "include_colab_link": true
    },
    "kernelspec": {
      "name": "python3",
      "display_name": "Python 3"
    },
    "language_info": {
      "name": "python"
    }
  },
  "cells": [
    {
      "cell_type": "markdown",
      "metadata": {
        "id": "view-in-github",
        "colab_type": "text"
      },
      "source": [
        "<a href=\"https://colab.research.google.com/github/j-hermansen/dog-breed-identification/blob/main/dog_breed_identification.ipynb\" target=\"_parent\"><img src=\"https://colab.research.google.com/assets/colab-badge.svg\" alt=\"Open In Colab\"/></a>"
      ]
    },
    {
      "cell_type": "markdown",
      "source": [
        "# End to end multi-class Dog breed classification\n",
        "\n",
        "This notebook builds an end-to-end multi-class image classifier using Tensorflow 2.0 and Tensorflow Hub.\n",
        "\n",
        "\n",
        "## 1. Problem\n",
        "Identifying the breed of  a dog given an image of a dog.\n",
        "\n",
        "When I'm sitting at the cafe and I take a image of a dog, I want to know what breed the dog is.\n",
        "\n",
        "\n",
        "## 2. Data\n",
        "The data we're using is from a competition on identifying dog breeds on Kaggle.\n",
        "\n",
        "https://www.kaggle.com/competitions/dog-breed-identification/data\n",
        "\n",
        "\n",
        "## 3. Evaluation\n",
        "The evaluation is a file with prediction probabilities for each dog breed of each test image.\n",
        "\n",
        "https://www.kaggle.com/competitions/dog-breed-identification/overview/evaluation\n",
        "\n",
        "\n",
        "## 4. Features\n",
        "Some information about the data:\n",
        "* We're dealing with images (unstructured data) so it's probably best we use deep learning/transfer learning.\n",
        "* There are 120 breeds of dogs (this means there are 120 different classes)\n",
        "* There are around 10 000+ images in the training set (these images have labels)\n",
        "* There are around 10,000+ images in the test set (these images has no labels, because these will be predicted)"
      ],
      "metadata": {
        "id": "DLVq4BdKrnci"
      }
    },
    {
      "cell_type": "code",
      "source": [
        "# Unzip the uploaded data into Google Drive\n",
        "# !unzip \"drive/MyDrive/data/dog-breed-identification.zip\" -d \"drive/MyDrive/data/\"  # use '!' to run command line keywords"
      ],
      "metadata": {
        "id": "zEx3ZzM_kQsG"
      },
      "execution_count": 2,
      "outputs": []
    },
    {
      "cell_type": "markdown",
      "source": [
        "## Get out workspace ready"
      ],
      "metadata": {
        "id": "tSQmsP3AvKTM"
      }
    },
    {
      "cell_type": "code",
      "source": [
        "# Import Tensorflow into Colab\n",
        "import tensorflow as tf\n",
        "print(\"TF version:\", tf.__version__)"
      ],
      "metadata": {
        "id": "uzLKkyvlno9W",
        "colab": {
          "base_uri": "https://localhost:8080/"
        },
        "outputId": "dcc66aef-d2a3-4674-e6fb-3c182ead27af"
      },
      "execution_count": 4,
      "outputs": [
        {
          "output_type": "stream",
          "name": "stdout",
          "text": [
            "TF version: 2.12.0\n"
          ]
        }
      ]
    },
    {
      "cell_type": "code",
      "source": [],
      "metadata": {
        "id": "KqsUitj9vTpl"
      },
      "execution_count": null,
      "outputs": []
    }
  ]
}